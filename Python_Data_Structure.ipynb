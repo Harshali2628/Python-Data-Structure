{
  "nbformat": 4,
  "nbformat_minor": 0,
  "metadata": {
    "colab": {
      "provenance": []
    },
    "kernelspec": {
      "name": "python3",
      "display_name": "Python 3"
    },
    "language_info": {
      "name": "python"
    }
  },
  "cells": [
    {
      "cell_type": "markdown",
      "source": [
        "#**Data Types and Structures**\n"
      ],
      "metadata": {
        "id": "d3A7Kvel43Jd"
      }
    },
    {
      "cell_type": "markdown",
      "source": [
        "1.  What are data structures, and why are they important ?\n",
        "    - Data Structure are containers that store, organize, and manage data efficiently for access and modification.They provide efficient ways to manage information based on its characterstics and intended use.\n",
        "    - They are important because choosing the right data structure significantly impacts the efficiency and performance of program.\n",
        "    - It simplify data manipulation\n",
        "    - Optimize searching and sorting operations\n",
        "    - Conserve memory usage\n",
        "\n",
        "2. Explain the difference between mutable and immutable data types with examples.\n",
        "    - Mutable Type can be changed after creation.\n",
        "    Eg: List [' '], Dictionary { 'a' :1}, Set {1,2,3}\n",
        "    - Immutable Type cannot be changed after creation.\n",
        "    Eg: Tuple ( 1, 2, 3), String 'hello' .\n",
        "\n",
        "3. What are the main differences between lists and tuples in Python?\n",
        "    - Lists are mutable collection of elements and Tuples are immutable collection of elements.\n",
        "    - Lists performance is slightly slower whereas Tuples performance is slightly faster.\n",
        "\n",
        "4. Describe how dictionaries store data.\n",
        "    - Dictionaries in python store data as key-value pairs. Each key maps to a value.\n",
        "\n",
        "5. Why might you use a set instead of a list in Python?\n",
        "    - Sets automatically remove duplicates and support fast membership testing.\n",
        "\n",
        "6. What is a string in Python, and how is it different from a list?\n",
        "    - Strings are characters arranged in an unchangeble order. Unlike lists, strings cannot be changed in place and are always immutable. Lists which hold ordered collections, can store elements of any type and allow modification.\n",
        "\n",
        "7. How do tuples ensure data integrity in Python?\n",
        "    - Tuples are immutable, if it once created their values cannot be changed. This characteristic ensures that the data stored in a tuple remains constant, protecting it from accidental modification.\n",
        "\n",
        "8. What is a hash table, and how does it relate to dictionaries in Python?\n",
        "    - A hash table is a data structure that maps keys to values using a hash function to compute an index. Python dictionaries are implemented using hash tables, allowing for average constant-time complexity for key-based lookups.\n",
        "\n",
        "9. Can lists contain different data types in Python?\n",
        "    - Yes, Python lists are heterogeneous and can store elements of different data types within the same list, thanks to Python's dynamic typing.\n",
        "\n",
        "10. Explain why strings are immutable in Python.\n",
        "    - Strings are immutable so they can be shared safely and efficiently, support memory sharing optimizations, and avoid unexpected side effects in programs.\n",
        "\n",
        "11. What advantages do dictionaries offer over lists for certain tasks?\n",
        "    - Dictionaries provide fast key-based lookup, making them efficient when you need to associate unique keys with values and quickly retrieve data based on keys. Lists would require scanning all elements, which is slower.\n",
        "\n",
        "12. Describe a scenario where using a tuple would be preferable over a list.\n",
        "    - When you want to protect data from changes (e.g., fixed coordinates, database records).\n",
        "    - As valid keys in a dictionary—only immutable types (like tuples) can be used as dictionary keys.\n",
        "\n",
        "13. How do sets handle duplicate values in Python?\n",
        "    - Sets automatically remove duplicates—each element in a set is unique.\n",
        "\n",
        "14. How does the “in” keyword work differently for lists and dictionaries?\n",
        "    - In list it checks if a value exists among the list's elements.\n",
        "    - In dictionary it checks if a value exists among the dictionary's keys.\n",
        "\n",
        "15. Can you modify the elements of a tuple? Explain why or why not.\n",
        "    - No, tuples are immutable; you cannot change their elements after creation. Any attempt to modify a tuple creates a new tuple instead.\n",
        "\n",
        "16. What is a nested dictionary, and give an example of its use case?\n",
        "    - A nested dictionary is a dictionary whose values are themselves dictionaries.\n",
        "    - students = {\n",
        "       'Alice': {'age': 20, 'grade': 'A'},\n",
        "       'Bob': {'age': 22, 'grade': 'B'}\n",
        "     }\n",
        "    \n",
        "\n",
        "17.  Describe the time complexity of accessing elements in a dictionary.\n",
        "    - Accessing elements (by key) in a dictionary is on average O(1) due to hash table implementation.\n",
        "\n",
        "18. In what situations are lists preferred over dictionaries?\n",
        "    - Lists are preferred when you need:\n",
        "    - Ordered access\n",
        "    - Sequential data processing\n",
        "    - Index- based access\n",
        "    - Cases where no key-value pair relationship is needed.\n",
        "\n",
        "19. Why are dictionaries considered unordered, and how does that affect data retrieval?\n",
        "    - Dictionaries considered unordered because you cannot access their items by position—only by keys.\n",
        "    - They use hash tables for fast lookups, so the order is not guaranteed and retrieval is always key-based, not index-based\n",
        "\n",
        "20. Explain the difference between a list and a dictionary in terms of data retrieval.\n",
        "    - List: Access elements by position (index), O(1) for direct access, but searching for a value requires O(n) time.\n",
        "    - Dictionary: Access elements by key, O(1) on average due to hashing, which is much faster for lookup by key—especially with large datasets."
      ],
      "metadata": {
        "id": "VDgcv6K45CbL"
      }
    },
    {
      "cell_type": "markdown",
      "source": [
        "#**Practical Questions**\n"
      ],
      "metadata": {
        "id": "YrpDXiZGTE7l"
      }
    },
    {
      "cell_type": "code",
      "source": [
        "#Write a code to create a string with your name and print it?\n",
        "\n",
        "name= \"Harshali\"\n",
        "print(name)"
      ],
      "metadata": {
        "id": "m29rUPD05B8q",
        "colab": {
          "base_uri": "https://localhost:8080/"
        },
        "outputId": "ad9d6bb4-9bbb-4368-a22d-2e3c770c0014"
      },
      "execution_count": null,
      "outputs": [
        {
          "output_type": "stream",
          "name": "stdout",
          "text": [
            "Harshali\n"
          ]
        }
      ]
    },
    {
      "cell_type": "code",
      "execution_count": null,
      "metadata": {
        "id": "Y8RKUlvy4czh",
        "colab": {
          "base_uri": "https://localhost:8080/"
        },
        "outputId": "4e910f37-128a-4c11-b6ae-a83a54c0b4c8"
      },
      "outputs": [
        {
          "output_type": "stream",
          "name": "stdout",
          "text": [
            "11\n"
          ]
        }
      ],
      "source": [
        "# Write a code to find the length of the string \"Hello World\".\n",
        "\n",
        "print(len(\"Hello World\"))"
      ]
    },
    {
      "cell_type": "code",
      "source": [
        "# Write a code to slice the first 3 characters from the string \"Python Programming\"?\n",
        "\n",
        "a = \"Python Programming\"\n",
        "sliced_a= a[:3]\n",
        "print(sliced_a)"
      ],
      "metadata": {
        "colab": {
          "base_uri": "https://localhost:8080/"
        },
        "id": "q5VpOplRT6UD",
        "outputId": "90ad63ca-b7fd-40b0-821c-ee2a8c709041"
      },
      "execution_count": null,
      "outputs": [
        {
          "output_type": "stream",
          "name": "stdout",
          "text": [
            "Pyt\n"
          ]
        }
      ]
    },
    {
      "cell_type": "code",
      "source": [
        "# Write a code to convert the string \"hello\" to uppercase.\n",
        "\n",
        "a= \"hello\"\n",
        "b= a.upper()\n",
        "print(b)"
      ],
      "metadata": {
        "colab": {
          "base_uri": "https://localhost:8080/"
        },
        "id": "n5zEboxjT6K9",
        "outputId": "03a06e0e-9575-4c7a-f37e-1b4f54acad44"
      },
      "execution_count": null,
      "outputs": [
        {
          "output_type": "stream",
          "name": "stdout",
          "text": [
            "HELLO\n"
          ]
        }
      ]
    },
    {
      "cell_type": "code",
      "source": [
        "# Write a code to replace the word \"apple\" with \"orange\" in the string \"I like apple\".\n",
        "\n",
        "a= \"I like apple\"\n",
        "b= a.replace('apple', 'orange')\n",
        "print(b)"
      ],
      "metadata": {
        "colab": {
          "base_uri": "https://localhost:8080/"
        },
        "id": "FyWNBNIOT6CW",
        "outputId": "aeec70c6-097b-4746-ea24-b24dbf294e85"
      },
      "execution_count": null,
      "outputs": [
        {
          "output_type": "stream",
          "name": "stdout",
          "text": [
            "I like orange\n"
          ]
        }
      ]
    },
    {
      "cell_type": "code",
      "source": [
        "# Write a code to create a list with numbers 1 to 5 and print it.\n",
        "\n",
        "mylist = [1,2,3,4,5]\n",
        "print(mylist)"
      ],
      "metadata": {
        "colab": {
          "base_uri": "https://localhost:8080/"
        },
        "id": "Gkfx8H8wT56R",
        "outputId": "4ce9fef2-5448-4138-e7cf-c3fc793f6017"
      },
      "execution_count": null,
      "outputs": [
        {
          "output_type": "stream",
          "name": "stdout",
          "text": [
            "[1, 2, 3, 4, 5]\n"
          ]
        }
      ]
    },
    {
      "cell_type": "code",
      "source": [
        "# Write a code to append the number 10 to the list [1, 2, 3, 4]?\n",
        "\n",
        "number= [1,2,3,4]\n",
        "number.append(10)\n",
        "print(number)"
      ],
      "metadata": {
        "colab": {
          "base_uri": "https://localhost:8080/"
        },
        "id": "1dQHp2nHT5yg",
        "outputId": "66df317a-168d-40c8-edb3-9699e176f088"
      },
      "execution_count": null,
      "outputs": [
        {
          "output_type": "stream",
          "name": "stdout",
          "text": [
            "[1, 2, 3, 4, 10]\n"
          ]
        }
      ]
    },
    {
      "cell_type": "code",
      "source": [
        "# Write a code to remove the number 3 from the list [1, 2, 3, 4, 5].\n",
        "\n",
        "number = [1,2,3,4,5]\n",
        "number.remove(3)\n",
        "print(number)"
      ],
      "metadata": {
        "colab": {
          "base_uri": "https://localhost:8080/"
        },
        "id": "NRZeAHUZT5qp",
        "outputId": "053c6952-dca0-4d7b-ff58-e9f6c1b64887"
      },
      "execution_count": null,
      "outputs": [
        {
          "output_type": "stream",
          "name": "stdout",
          "text": [
            "[1, 2, 4, 5]\n"
          ]
        }
      ]
    },
    {
      "cell_type": "code",
      "source": [
        "# Write a code to access the second element in the list ['a', 'b', 'c', 'd'].\n",
        "\n",
        "mylist= ['a','b','c','d']\n",
        "print(mylist[1])"
      ],
      "metadata": {
        "colab": {
          "base_uri": "https://localhost:8080/"
        },
        "id": "ajxx_B8NT5ja",
        "outputId": "5d91d617-0b18-4732-ae06-c0828ba3550e"
      },
      "execution_count": null,
      "outputs": [
        {
          "output_type": "stream",
          "name": "stdout",
          "text": [
            "b\n"
          ]
        }
      ]
    },
    {
      "cell_type": "code",
      "source": [
        "# Write a code to reverse the list [10, 20, 30, 40, 50].\n",
        "\n",
        "numbers= [10,20,30,40,50]\n",
        "numbers.reverse()\n",
        "print(numbers)"
      ],
      "metadata": {
        "colab": {
          "base_uri": "https://localhost:8080/"
        },
        "id": "FHU92Z98T5cW",
        "outputId": "61a84bbc-8d94-45c1-8386-75c225aa183c"
      },
      "execution_count": null,
      "outputs": [
        {
          "output_type": "stream",
          "name": "stdout",
          "text": [
            "[50, 40, 30, 20, 10]\n"
          ]
        }
      ]
    },
    {
      "cell_type": "code",
      "source": [
        "# Write a code to create a tuple with the elements 100, 200, 300 and print it.\n",
        "\n",
        "mytuple= (100,200,300)\n",
        "print(mytuple)"
      ],
      "metadata": {
        "colab": {
          "base_uri": "https://localhost:8080/"
        },
        "id": "FlN7QxMKT5UQ",
        "outputId": "e0464308-77f0-4f7e-b650-fb0252db6394"
      },
      "execution_count": null,
      "outputs": [
        {
          "output_type": "stream",
          "name": "stdout",
          "text": [
            "(100, 200, 300)\n"
          ]
        }
      ]
    },
    {
      "cell_type": "code",
      "source": [
        "# Write a code to access the second-to-last element of the tuple ('red', 'green', 'blue', 'yellow').\n",
        "\n",
        "mytuple1=('red', 'green', 'blue', 'yellow')\n",
        "print(mytuple1[-2])"
      ],
      "metadata": {
        "colab": {
          "base_uri": "https://localhost:8080/"
        },
        "id": "CuZ3pJ6cT5Mc",
        "outputId": "a7737b8e-55f9-4b51-b839-60000ba260c1"
      },
      "execution_count": null,
      "outputs": [
        {
          "output_type": "stream",
          "name": "stdout",
          "text": [
            "blue\n"
          ]
        }
      ]
    },
    {
      "cell_type": "code",
      "source": [
        "# Write a code to find the minimum number in the tuple (10, 20, 5, 15).\n",
        "\n",
        "mytuple2= (10,20,5,15)\n",
        "print(min(mytuple2))\n"
      ],
      "metadata": {
        "colab": {
          "base_uri": "https://localhost:8080/"
        },
        "id": "CwY84us1T5FK",
        "outputId": "a73a46e1-5c5e-4296-cb67-14770f017940"
      },
      "execution_count": null,
      "outputs": [
        {
          "output_type": "stream",
          "name": "stdout",
          "text": [
            "5\n"
          ]
        }
      ]
    },
    {
      "cell_type": "code",
      "source": [
        "#  Write a code to find the index of the element \"cat\" in the tuple ('dog', 'cat', 'rabbit').\n",
        "\n",
        "mytuple3= ('dog', 'cat', 'rabbit')\n",
        "print(mytuple3.index('cat'))"
      ],
      "metadata": {
        "colab": {
          "base_uri": "https://localhost:8080/"
        },
        "id": "XUPOW99CT4-I",
        "outputId": "4e5bbe6c-8807-4f13-8084-fb493ca2a8b5"
      },
      "execution_count": null,
      "outputs": [
        {
          "output_type": "stream",
          "name": "stdout",
          "text": [
            "1\n"
          ]
        }
      ]
    },
    {
      "cell_type": "code",
      "source": [
        "#  Write a code to create a tuple containing three different fruits and check if \"kiwi\" is in it.\n",
        "\n",
        "fruits= ('apple', 'orange', 'grapes')\n",
        "check_kiwi = 'kiwi' in fruits\n",
        "print(check_kiwi)"
      ],
      "metadata": {
        "colab": {
          "base_uri": "https://localhost:8080/"
        },
        "id": "BqWSB2QRT42l",
        "outputId": "12cf8801-7908-48a7-8f70-f05a6fa95090"
      },
      "execution_count": null,
      "outputs": [
        {
          "output_type": "stream",
          "name": "stdout",
          "text": [
            "False\n"
          ]
        }
      ]
    },
    {
      "cell_type": "code",
      "source": [
        "#  Write a code to create a set with the elements 'a', 'b', 'c' and print it.\n",
        "\n",
        "myset= {'a', 'b','c'}\n",
        "print(myset)"
      ],
      "metadata": {
        "colab": {
          "base_uri": "https://localhost:8080/"
        },
        "id": "Qbo8Qn3aT4uA",
        "outputId": "6dc3d65a-f0aa-4f61-8b1d-4df81ba93086"
      },
      "execution_count": null,
      "outputs": [
        {
          "output_type": "stream",
          "name": "stdout",
          "text": [
            "{'a', 'b', 'c'}\n"
          ]
        }
      ]
    },
    {
      "cell_type": "code",
      "source": [
        "#  Write a code to clear all elements from the set {1, 2, 3, 4, 5}.\n",
        "\n",
        "numbers= {1,2,3,4,5}\n",
        "numbers.clear()\n",
        "print(numbers)"
      ],
      "metadata": {
        "colab": {
          "base_uri": "https://localhost:8080/"
        },
        "id": "F7yJwwzZT4kX",
        "outputId": "90b9b888-efe1-4e09-efd0-31304d77058d"
      },
      "execution_count": null,
      "outputs": [
        {
          "output_type": "stream",
          "name": "stdout",
          "text": [
            "set()\n"
          ]
        }
      ]
    },
    {
      "cell_type": "code",
      "source": [
        "#  Write a code to remove the element 4 from the set {1, 2, 3, 4}.\n",
        "\n",
        "numbers1 ={1,2,3,4}\n",
        "numbers1.remove(4)\n",
        "print(numbers1)"
      ],
      "metadata": {
        "colab": {
          "base_uri": "https://localhost:8080/"
        },
        "id": "CJI7-EMsT4ad",
        "outputId": "533091c6-82d0-4ece-edc5-ce2f5be63cc6"
      },
      "execution_count": null,
      "outputs": [
        {
          "output_type": "stream",
          "name": "stdout",
          "text": [
            "{1, 2, 3}\n"
          ]
        }
      ]
    },
    {
      "cell_type": "code",
      "source": [
        "# Write a code to find the union of two sets {1, 2, 3} and {3, 4, 5}.\n",
        "\n",
        "numbers_1 ={ 1,2,3}\n",
        "numbers_2 ={3,4,5}\n",
        "print(numbers_1.union(numbers_2))"
      ],
      "metadata": {
        "colab": {
          "base_uri": "https://localhost:8080/"
        },
        "id": "k-ARiL0IT4Qz",
        "outputId": "a0488d20-b08c-4d03-e967-6aae2b609c1b"
      },
      "execution_count": null,
      "outputs": [
        {
          "output_type": "stream",
          "name": "stdout",
          "text": [
            "{1, 2, 3, 4, 5}\n"
          ]
        }
      ]
    },
    {
      "cell_type": "code",
      "source": [
        "# Write a code to find the intersection of two sets {1, 2, 3} and {2, 3, 4}.\n",
        "\n",
        "numbers1 ={1,2,3}\n",
        "numbers2= {2,3,4}\n",
        "print(numbers1.intersection(numbers2))"
      ],
      "metadata": {
        "colab": {
          "base_uri": "https://localhost:8080/"
        },
        "id": "8LEuMqCQT4E2",
        "outputId": "177c8632-2384-4f40-ed28-4f66bf71ba52"
      },
      "execution_count": null,
      "outputs": [
        {
          "output_type": "stream",
          "name": "stdout",
          "text": [
            "{2, 3}\n"
          ]
        }
      ]
    },
    {
      "cell_type": "code",
      "source": [
        "#  Write a code to create a dictionary with the keys \"name\", \"age\", and \"city\", and print it.\n",
        "\n",
        "dictionary= {\"name\":\"harshali\", \"age\":20, \"city\": \"dewas\"}\n",
        "print(dictionary)"
      ],
      "metadata": {
        "colab": {
          "base_uri": "https://localhost:8080/"
        },
        "id": "ruMM66u3WjcM",
        "outputId": "e44b7a8c-053b-41e4-a0b6-2b92cedd2bdd"
      },
      "execution_count": null,
      "outputs": [
        {
          "output_type": "stream",
          "name": "stdout",
          "text": [
            "{'name': 'harshali', 'age': 20, 'city': 'dewas'}\n"
          ]
        }
      ]
    },
    {
      "cell_type": "code",
      "source": [
        "#  Write a code to add a new key-value pair \"country\": \"USA\" to the dictionary {'name': 'John', 'age': 25}.\n",
        "\n",
        "dictionary = {'name': 'John', 'age': 25}\n",
        "dictionary[\"country\"]= \"usa\"\n",
        "print(dictionary)"
      ],
      "metadata": {
        "colab": {
          "base_uri": "https://localhost:8080/"
        },
        "id": "kgcY5byxWjVv",
        "outputId": "277ce696-54ba-4fb0-b1c2-6fcd58979651"
      },
      "execution_count": null,
      "outputs": [
        {
          "output_type": "stream",
          "name": "stdout",
          "text": [
            "{'name': 'John', 'age': 25, 'country': 'usa'}\n"
          ]
        }
      ]
    },
    {
      "cell_type": "code",
      "source": [
        "#. Write a code to access the value associated with the key \"name\" in the dictionary {'name': 'Alice', 'age': 30}.\n",
        "\n",
        "dict_1 = {'name': 'Alice', 'age': 30}\n"
      ],
      "metadata": {
        "id": "p2YI9p_cWjPe"
      },
      "execution_count": null,
      "outputs": []
    },
    {
      "cell_type": "code",
      "source": [
        "#  Write a code to remove the key \"age\" from the dictionary {'name': 'Bob', 'age': 22, 'city': 'New York'}.\n",
        "\n",
        "dict_2 = {'name': 'Bob', 'age': 22, 'city': 'New York'}\n",
        "dict_2.pop('age')\n",
        "print(dict_2)"
      ],
      "metadata": {
        "id": "-u2aFCRpWjJh",
        "colab": {
          "base_uri": "https://localhost:8080/"
        },
        "outputId": "29966f65-dcc6-4a1c-ec81-5e2002bd864e"
      },
      "execution_count": 4,
      "outputs": [
        {
          "output_type": "stream",
          "name": "stdout",
          "text": [
            "{'name': 'Bob', 'city': 'New York'}\n"
          ]
        }
      ]
    },
    {
      "cell_type": "code",
      "source": [
        "# Write a code to check if the key \"city\" exists in the dictionary {'name': 'Alice', 'city': 'Paris'}.\n",
        "\n",
        "dict_3= {'name': 'Alice', 'city': 'Paris'}\n",
        "check_city= 'city' in dict_3\n",
        "print(check_city)"
      ],
      "metadata": {
        "id": "-NdBkUPoWjDQ",
        "colab": {
          "base_uri": "https://localhost:8080/"
        },
        "outputId": "081dc40e-95ff-4e1e-8749-703e038629cb"
      },
      "execution_count": 5,
      "outputs": [
        {
          "output_type": "stream",
          "name": "stdout",
          "text": [
            "True\n"
          ]
        }
      ]
    },
    {
      "cell_type": "code",
      "source": [
        "# Write a code to create a list, a tuple, and a dictionary, and print them all.\n",
        "\n",
        "my_list = [1,2,3,4]\n",
        "my_tuple = (1,2,3,4)\n",
        "my_dict = {'name':'harshali', 'age':20, 'city':'dewas'}\n",
        "\n",
        "print (\"list is \", my_list)\n",
        "print(\"tuple is \", my_tuple)\n",
        "print (\"dictionary is \", my_dict)"
      ],
      "metadata": {
        "id": "6mUDa1RRWi8t",
        "colab": {
          "base_uri": "https://localhost:8080/"
        },
        "outputId": "43503850-fae6-49ef-cead-56e42aa40f4c"
      },
      "execution_count": 6,
      "outputs": [
        {
          "output_type": "stream",
          "name": "stdout",
          "text": [
            "list is  [1, 2, 3, 4]\n",
            "tuple is  (1, 2, 3, 4)\n",
            "dictionary is  {'name': 'harshali', 'age': 20, 'city': 'dewas'}\n"
          ]
        }
      ]
    },
    {
      "cell_type": "code",
      "source": [
        "#  Write a code to create a list of 5 random numbers between 1 and 100, sort it in ascending order, and print the result.(replaced)\n",
        "\n",
        "import random\n",
        "\n",
        "numbers= [random.randint (1,100) for i in range (5)]\n",
        "\n",
        "numbers.sort()\n",
        "\n",
        "print(numbers)"
      ],
      "metadata": {
        "id": "5LiT4GZqWi2a",
        "colab": {
          "base_uri": "https://localhost:8080/"
        },
        "outputId": "0e37a8cf-f9d9-429b-883d-a2d8a6bc7541"
      },
      "execution_count": 7,
      "outputs": [
        {
          "output_type": "stream",
          "name": "stdout",
          "text": [
            "[36, 48, 65, 76, 94]\n"
          ]
        }
      ]
    },
    {
      "cell_type": "code",
      "source": [
        "#  Write a code to create a list with strings and print the element at the third index.\n",
        "\n",
        "lst = [ 1 , 2, 'happy' , 'sad', 6, 10]\n",
        "print (lst[3])"
      ],
      "metadata": {
        "id": "_qUi8GK_Wium",
        "colab": {
          "base_uri": "https://localhost:8080/"
        },
        "outputId": "f26fc450-a6e2-44a5-b1e7-f7029e4563c0"
      },
      "execution_count": 8,
      "outputs": [
        {
          "output_type": "stream",
          "name": "stdout",
          "text": [
            "sad\n"
          ]
        }
      ]
    },
    {
      "cell_type": "code",
      "source": [
        "#  Write a code to combine two dictionaries into one and print the result.\n",
        "\n",
        "dic1 = {'name': 'harshali', 'study': 'engineering', 'city': 'dewas'}\n",
        "dic2 = {'name': 'satasvi', 'age': 18, 'city': 'indore'}\n",
        "\n",
        "dic1 .update(dic2)\n",
        "print(dic1)"
      ],
      "metadata": {
        "id": "5M-D85LkWimz",
        "colab": {
          "base_uri": "https://localhost:8080/"
        },
        "outputId": "ea17fc1d-e41e-4fee-d89f-78eb087c036f"
      },
      "execution_count": 16,
      "outputs": [
        {
          "output_type": "stream",
          "name": "stdout",
          "text": [
            "{'name': 'satasvi', 'study': 'engineering', 'city': 'indore', 'age': 18}\n"
          ]
        }
      ]
    },
    {
      "cell_type": "code",
      "source": [
        "#  Write a code to convert a list of strings into a set.\n",
        "\n",
        "string_list = ['apple', 'banana', 'cherry', 'apple', 'banana']\n",
        "string_set= set(string_list)\n",
        "print(string_set)\n"
      ],
      "metadata": {
        "id": "xXFW7hJbWiep",
        "colab": {
          "base_uri": "https://localhost:8080/"
        },
        "outputId": "23a8e1da-ddf4-4873-eae7-380d586dc7bc"
      },
      "execution_count": 17,
      "outputs": [
        {
          "output_type": "stream",
          "name": "stdout",
          "text": [
            "{'apple', 'cherry', 'banana'}\n"
          ]
        }
      ]
    }
  ]
}